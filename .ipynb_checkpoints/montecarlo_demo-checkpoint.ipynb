{
 "cells": [
  {
   "cell_type": "code",
   "execution_count": 37,
   "metadata": {},
   "outputs": [
    {
     "name": "stdout",
     "output_type": "stream",
     "text": [
      "Defaulting to user installation because normal site-packages is not writeable\n",
      "\u001b[31mERROR: Could not find a version that satisfies the requirement libary.montecarlo (from versions: none)\u001b[0m\n",
      "\u001b[31mERROR: No matching distribution found for libary.montecarlo\u001b[0m\n"
     ]
    },
    {
     "ename": "SyntaxError",
     "evalue": "Missing parentheses in call to 'print'. Did you mean print('======================')? (montecarlo.py, line 14)",
     "output_type": "error",
     "traceback": [
      "Traceback \u001b[0;36m(most recent call last)\u001b[0m:\n",
      "  File \u001b[1;32m\"/apps/software/standard/compiler/gcc/9.2.0/jupyter_conda/2020.11-py3.8/lib/python3.8/site-packages/IPython/core/interactiveshell.py\"\u001b[0m, line \u001b[1;32m3418\u001b[0m, in \u001b[1;35mrun_code\u001b[0m\n    exec(code_obj, self.user_global_ns, self.user_ns)\n",
      "  File \u001b[1;32m\"<ipython-input-37-30a374b0bd92>\"\u001b[0m, line \u001b[1;32m3\u001b[0m, in \u001b[1;35m<module>\u001b[0m\n    from montecarlo import Die\n",
      "\u001b[0;36m  File \u001b[0;32m\"/home/zxv6mt/.local/lib/python3.8/site-packages/montecarlo/__init__.py\"\u001b[0;36m, line \u001b[0;32m1\u001b[0;36m, in \u001b[0;35m<module>\u001b[0;36m\u001b[0m\n\u001b[0;31m    from montecarlo import montecarlo\u001b[0m\n",
      "\u001b[0;36m  File \u001b[0;32m\"/home/zxv6mt/.local/lib/python3.8/site-packages/montecarlo/montecarlo.py\"\u001b[0;36m, line \u001b[0;32m14\u001b[0m\n\u001b[0;31m    print '======================'\u001b[0m\n\u001b[0m          ^\u001b[0m\n\u001b[0;31mSyntaxError\u001b[0m\u001b[0;31m:\u001b[0m Missing parentheses in call to 'print'. Did you mean print('======================')?\n"
     ]
    }
   ],
   "source": []
  },
  {
   "cell_type": "markdown",
   "metadata": {},
   "source": [
    "# Scenario 1: A 2-headed coin\n",
    "1. Create a fair coin (with faces H and T) and one unfair coin, in\n",
    "which one of the faces has a weight of 5 and the others 1.\n",
    "2. Play a game of 1000 flips with all fair dice.\n",
    "3. Play a game of 1000 flips with two unfair dice and one fair die.\n",
    "4. For each game, use an Analyzer object to determine the\n",
    "relative frequency of jackpots – getting either all Hs or all Ts.\n",
    "5. Compute relative frequency as the number of jackpots over the\n",
    "total number of rolls.\n",
    "6. Show your results, comparing the two relative frequencies, in a\n",
    "simple bar chart."
   ]
  },
  {
   "cell_type": "code",
   "execution_count": 22,
   "metadata": {},
   "outputs": [
    {
     "data": {
      "text/plain": [
       "<BarContainer object of 2 artists>"
      ]
     },
     "execution_count": 22,
     "metadata": {},
     "output_type": "execute_result"
    },
    {
     "data": {
      "image/png": "[encoded data removed]",
      "text/plain": [
       "<Figure size 432x288 with 1 Axes>"
      ]
     },
     "metadata": {
      "needs_background": "light"
     },
     "output_type": "display_data"
    }
   ],
   "source": [
    "import matplotlib.pyplot as plt\n",
    "#Create fair and unfair dice with weights\n",
    "fair = Die(['H','T'])\n",
    "unfair = Die(['H','T'])\n",
    "unfair.change_weight('H',5)\n",
    "\n",
    "#Play 1000 Games\n",
    "fair_game = Game([fair,fair,fair])\n",
    "fair_game.play(1000)\n",
    "fair_game.show()\n",
    "\n",
    "unfair_game = Game([unfair,unfair,fair])\n",
    "unfair_game.play(1000)\n",
    "unfair_game.show()\n",
    "\n",
    "#Analysis\n",
    "fair_analysis = Analyzer(fair_game)\n",
    "fair_jackpot = fair_analysis.jackpot()\n",
    "fair_freq = fair_jackpot/1000\n",
    "\n",
    "unfair_analysis = Analyzer(unfair_game)\n",
    "unfair_jackpot = unfair_analysis.jackpot()\n",
    "unfair_freq = unfair_jackpot/1000\n",
    "\n",
    "#Bar Chart\n",
    "plt.bar(['Jackpot(Fair)', 'Jackpot(unfair)'],[fair_freq, unfair_freq])"
   ]
  },
  {
   "cell_type": "markdown",
   "metadata": {},
   "source": [
    "# Scenario 2: A 6-sided die\n",
    "1. Create a fair die and two unfair dice, all of six sides with the\n",
    "faces 1 through 6. One unfair die (Type 1) will weight 6 five\n",
    "times more than the others (i.e. it has weight of 5 and the\n",
    "others a weight of 1 each). The other unfair die (Type 2)\n",
    "will weight 1 five times more than the others.\n",
    "2. Play a game of 10000 rolls with 5 fair dice.\n",
    "3. Play a game of 10000 rolls with 2 unfair dice of type 1, 1 unfair\n",
    "die of type 2, and the rest fair dice.\n",
    "4. For each game, use an Analyzer object to determine the\n",
    "relative frequency of jackpots and show your results,\n",
    "comparing the two relative frequencies, in a simple bar chart.\n",
    "5. Also compute 10 most frequent combinations of faces for each\n",
    "game. Plot each of these as bar charts."
   ]
  },
  {
   "cell_type": "code",
   "execution_count": 25,
   "metadata": {},
   "outputs": [
    {
     "data": {
      "text/plain": [
       "([0, 1, 2, 3, 4, 5, 6, 7, 8, 9],\n",
       " [Text(0, 0, ''),\n",
       "  Text(0, 0, ''),\n",
       "  Text(0, 0, ''),\n",
       "  Text(0, 0, ''),\n",
       "  Text(0, 0, ''),\n",
       "  Text(0, 0, ''),\n",
       "  Text(0, 0, ''),\n",
       "  Text(0, 0, ''),\n",
       "  Text(0, 0, ''),\n",
       "  Text(0, 0, '')])"
      ]
     },
     "execution_count": 25,
     "metadata": {},
     "output_type": "execute_result"
    },
    {
     "data": {
      "image/png": "[encoded data removed]",
      "text/plain": [
       "<Figure size 432x288 with 1 Axes>"
      ]
     },
     "metadata": {
      "needs_background": "light"
     },
     "output_type": "display_data"
    },
    {
     "data": {
      "image/png": "[encoded data removed]",
      "text/plain": [
       "<Figure size 432x288 with 1 Axes>"
      ]
     },
     "metadata": {
      "needs_background": "light"
     },
     "output_type": "display_data"
    },
    {
     "data": {
      "image/png": "[encoded data removed]",
      "text/plain": [
       "<Figure size 432x288 with 1 Axes>"
      ]
     },
     "metadata": {
      "needs_background": "light"
     },
     "output_type": "display_data"
    }
   ],
   "source": [
    "del fair\n",
    "#Dice creation and mutation\n",
    "fair = Die([1,2,3,4,5,6])\n",
    "unfair1 = Die([1,2,3,4,5,6])\n",
    "unfair2 = Die([1,2,3,4,5,6])\n",
    "unfair1.change_weight(6,5)\n",
    "unfair2.change_weight(1,5)\n",
    "\n",
    "#Play games\n",
    "fair_game2 = Game([fair,fair,fair,fair,fair])\n",
    "fair_game2.play(10000)\n",
    "fair_game2.show()\n",
    "\n",
    "unfair_game2 = Game([unfair1,unfair1,unfair2,fair,fair])\n",
    "unfair_game2.play(10000)\n",
    "unfair_game2.show()\n",
    "\n",
    "#Analysis\n",
    "fair_analysis2 = Analyzer(fair_game2)\n",
    "fair_jackpot2 = fair_analysis2.jackpot()\n",
    "fair_freq2 = fair_jackpot2/10000\n",
    "fair_combo = fair_analysis2.combo().nlargest(10,'Combinations')\n",
    "\n",
    "unfair_analysis2 = Analyzer(unfair_game2)\n",
    "unfair_jackpot2 = unfair_analysis2.jackpot()\n",
    "unfair_freq2 = unfair_jackpot2/10000\n",
    "unfair_combo = unfair_analysis2.combo().nlargest(10,'Combinations')\n",
    "\n",
    "#Plot\n",
    "plt.figure(1)\n",
    "plt.bar(['Jackpot(fair)','Jackpot(unfair)'],[fair_freq2,unfair_freq2])\n",
    "\n",
    "plt.figure(2)\n",
    "plt.bar(fair_combo.index.tolist(),np.concatenate(fair_combo.values.tolist()))\n",
    "plt.xticks(rotation = 45)\n",
    "\n",
    "plt.figure(3)\n",
    "plt.bar(unfair_combo.index.tolist(),np.concatenate(unfair_combo.values.tolist()))\n",
    "plt.xticks(rotation = 45)"
   ]
  },
  {
   "cell_type": "markdown",
   "metadata": {},
   "source": [
    "# Scendario 3: Letters of the Roman Alpha\n",
    "1. Create a \"die\" of letters from a to z with weights based on their frequency of usage.\n",
    "2. Play a game involving 5 of these dice with 1000 rolls. How many combos can you that look like actual English words? \n",
    "4. NOTE: \"combo\" here just means resulting sequence, not literally combination as opposed to permutation.\n",
    "3. Based on your eye count, what is the relative frequency of these words versus the rest? \n",
    "5. Note: the Notebook will supply the weights for the letters.\n"
   ]
  },
  {
   "cell_type": "code",
   "execution_count": 27,
   "metadata": {},
   "outputs": [
    {
     "name": "stdout",
     "output_type": "stream",
     "text": [
      "There were about 5 real words that I saw.\n",
      "The frequency of real words generated is 0.005005005005005005\n"
     ]
    }
   ],
   "source": [
    "atoz = [chr(c) for c in range(ord('A'),ord('Z')+1)]\n",
    "abc = Die(atoz)\n",
    "abc_weight = [8.4966,2.0720,4.5388,3.3844,11.1607,1.8121,2.4705,3.0034,7.5448,0.1965,1.1016,5.4893,3.0129,6.6544,7.1635,3.1671,0.1962,7.5809,5.7351,6.9509,3.6308,1.0074,1.2899,0.2902,1.7779,0.2722]\n",
    "for i in range(0,26):\n",
    "    abc.change_weight(atoz[i],abc_weight[i])\n",
    "\n",
    "abc_game = Game([abc,abc,abc,abc,abc])\n",
    "abc_game.play(1000)\n",
    "abc_game.show()\n",
    "abc_analysis = Analyzer(abc_game)\n",
    "abc_words = abc_analysis.combo()\n",
    "print('There were about 5 real words that I saw.')\n",
    "abc_freq = 5/len(abc_words)\n",
    "print(f'The frequency of real words generated is {abc_freq}')"
   ]
  },
  {
   "cell_type": "code",
   "execution_count": 12,
   "metadata": {},
   "outputs": [
    {
     "data": {
      "text/html": [
       "<div>\n",
       "<style scoped>\n",
       "    .dataframe tbody tr th:only-of-type {\n",
       "        vertical-align: middle;\n",
       "    }\n",
       "\n",
       "    .dataframe tbody tr th {\n",
       "        vertical-align: top;\n",
       "    }\n",
       "\n",
       "    .dataframe thead th {\n",
       "        text-align: right;\n",
       "    }\n",
       "</style>\n",
       "<table border=\"1\" class=\"dataframe\">\n",
       "  <thead>\n",
       "    <tr style=\"text-align: right;\">\n",
       "      <th></th>\n",
       "      <th>1</th>\n",
       "      <th>2</th>\n",
       "      <th>3</th>\n",
       "      <th>4</th>\n",
       "      <th>5</th>\n",
       "      <th>6</th>\n",
       "      <th>7</th>\n",
       "      <th>8</th>\n",
       "      <th>9</th>\n",
       "      <th>10</th>\n",
       "      <th>...</th>\n",
       "      <th>16</th>\n",
       "      <th>17</th>\n",
       "      <th>18</th>\n",
       "      <th>19</th>\n",
       "      <th>20</th>\n",
       "      <th>21</th>\n",
       "      <th>22</th>\n",
       "      <th>23</th>\n",
       "      <th>24</th>\n",
       "      <th>25</th>\n",
       "    </tr>\n",
       "  </thead>\n",
       "  <tbody>\n",
       "    <tr>\n",
       "      <th>1</th>\n",
       "      <td>H</td>\n",
       "      <td>T</td>\n",
       "      <td>T</td>\n",
       "      <td>H</td>\n",
       "      <td>H</td>\n",
       "      <td>H</td>\n",
       "      <td>H</td>\n",
       "      <td>H</td>\n",
       "      <td>T</td>\n",
       "      <td>H</td>\n",
       "      <td>...</td>\n",
       "      <td>T</td>\n",
       "      <td>H</td>\n",
       "      <td>T</td>\n",
       "      <td>H</td>\n",
       "      <td>H</td>\n",
       "      <td>H</td>\n",
       "      <td>T</td>\n",
       "      <td>T</td>\n",
       "      <td>T</td>\n",
       "      <td>H</td>\n",
       "    </tr>\n",
       "    <tr>\n",
       "      <th>2</th>\n",
       "      <td>H</td>\n",
       "      <td>H</td>\n",
       "      <td>H</td>\n",
       "      <td>T</td>\n",
       "      <td>H</td>\n",
       "      <td>H</td>\n",
       "      <td>T</td>\n",
       "      <td>T</td>\n",
       "      <td>H</td>\n",
       "      <td>T</td>\n",
       "      <td>...</td>\n",
       "      <td>H</td>\n",
       "      <td>T</td>\n",
       "      <td>H</td>\n",
       "      <td>H</td>\n",
       "      <td>H</td>\n",
       "      <td>H</td>\n",
       "      <td>T</td>\n",
       "      <td>T</td>\n",
       "      <td>T</td>\n",
       "      <td>H</td>\n",
       "    </tr>\n",
       "    <tr>\n",
       "      <th>3</th>\n",
       "      <td>T</td>\n",
       "      <td>T</td>\n",
       "      <td>T</td>\n",
       "      <td>T</td>\n",
       "      <td>T</td>\n",
       "      <td>H</td>\n",
       "      <td>T</td>\n",
       "      <td>H</td>\n",
       "      <td>T</td>\n",
       "      <td>T</td>\n",
       "      <td>...</td>\n",
       "      <td>T</td>\n",
       "      <td>T</td>\n",
       "      <td>T</td>\n",
       "      <td>H</td>\n",
       "      <td>H</td>\n",
       "      <td>H</td>\n",
       "      <td>H</td>\n",
       "      <td>H</td>\n",
       "      <td>H</td>\n",
       "      <td>T</td>\n",
       "    </tr>\n",
       "  </tbody>\n",
       "</table>\n",
       "<p>3 rows × 25 columns</p>\n",
       "</div>"
      ],
      "text/plain": [
       "  1  2  3  4  5  6  7  8  9  10  ... 16 17 18 19 20 21 22 23 24 25\n",
       "1  H  T  T  H  H  H  H  H  T  H  ...  T  H  T  H  H  H  T  T  T  H\n",
       "2  H  H  H  T  H  H  T  T  H  T  ...  H  T  H  H  H  H  T  T  T  H\n",
       "3  T  T  T  T  T  H  T  H  T  T  ...  T  T  T  H  H  H  H  H  H  T\n",
       "\n",
       "[3 rows x 25 columns]"
      ]
     },
     "execution_count": 12,
     "metadata": {},
     "output_type": "execute_result"
    }
   ],
   "source": [
    "test_die5 = Die(['H','T'])\n",
    "test_game5 = Game([test_die5,test_die5,test_die5])\n",
    "test_game5.play(25)\n",
    "test_game5.show()[:5][:5]"
   ]
  },
  {
   "cell_type": "markdown",
   "metadata": {},
   "source": [
    "class Die:\n",
    "    def __init__(self,faces,weight = 1.0):\n",
    "        self.N = np.array(faces)\n",
    "        self.W = np.repeat(weight,len(self.N))\n",
    "        self.__datastore = pd.DataFrame({'faces':self.N,'weight':self.W})\n",
    " \n",
    "    def change_weight(self,face,new_weight):\n",
    "        #Check to see if face is in array\n",
    "        if face not in self.N:\n",
    "            print('Face value not present in array!')\n",
    "            return\n",
    "        \n",
    "        #Check if weight is a float\n",
    "        if new_weight is not float: \n",
    "            try: \n",
    "                float(new_weight) \n",
    "            \n",
    "            except: \n",
    "                print('Invalid format for weight. Cannot be converted to float.')\n",
    "                return \n",
    "        \n",
    "        #change values \n",
    "        idx = list(self.N).index(face)\n",
    "        self.W[idx] = new_weight\n",
    "        self.__datastore['weight'] = self.W\n",
    "        \n",
    "    def roll(self,num_rolls = 1):\n",
    "        weighted_dist = self.__datastore['weight']/sum(self.__datastore['weight'])\n",
    "        randomizer = lambda a: np.random.choice(a['faces'],1, p = weighted_dist)\n",
    "        return np.concatenate([randomizer(self.__datastore) for x in range(0,num_rolls)]).tolist()\n",
    "\n",
    "    def show(self):\n",
    "        return self.__datastore\n",
    "      \n",
    "class Game:\n",
    "    def __init__(self,die):\n",
    "        #for x in range(1,len(die)):\n",
    "        #    if np.array_equal(die[x].N,die[x-1].N) is False:\n",
    "        #        print(f\"Dice {x} and {x+1} are not of the same type\")\n",
    "        #        return\n",
    "        #    else:\n",
    "        self.dice = die \n",
    "    \n",
    "    def play(self,num_rolls):\n",
    "        self.__playdata = pd.DataFrame(index = range(1,len(self.dice)+1), columns = range(num_rolls))\n",
    "        for i in range(0,len(self.dice)):\n",
    "            self.__playdata.iloc[i] =  self.dice[i].roll(num_rolls)\n",
    "        self.__playdata = self.__playdata.transpose()\n",
    "        self.__playdata.index = range(1,num_rolls+1,1)\n",
    "        self.__playdata.index.name = 'Roll'\n",
    "    def show(self,form = 'W'):\n",
    "        self.form = form\n",
    "        if form.upper() != 'W' and form.upper() != 'N': \n",
    "            raise ValueError('Invalid Input: must be W or N')\n",
    "        elif form.upper() == 'N':\n",
    "            self.__playdata = self.__playdata.stack().to_frame()\n",
    "            self.__playdata.index.names = ['Roll','Dice']\n",
    "            self.__playdata.columns = ['Face']\n",
    "            return self.__playdata\n",
    "        elif form.upper() == 'W':\n",
    "            self.__playdata.index.name = None\n",
    "            self.__playdata = self.__playdata.T\n",
    "            return self.__playdata\n",
    "            \n",
    "            \n",
    "class Analyzer:\n",
    "    def __init__(self,game):       \n",
    "        self.datatype = type(game._Game__playdata.values[0,0])\n",
    "        self.game = game\n",
    "        \n",
    "    def jackpot(self):\n",
    "        if self.game.form == 'W':\n",
    "            self.jackpott = self.game._Game__playdata.eq(self.game._Game__playdata.iloc[0,:],axis = 1).all().to_frame()\n",
    "        else:\n",
    "            self.game._Game__playdata = self.game._Game__playdata.unstack()\n",
    "            self.jackpott = self.game._Game__playdata.eq(self.game._Game__playdata.iloc[:,0],axis = 0).all(1).to_frame()\n",
    "        return int(self.jackpott.sum())\n",
    "    \n",
    "    def combo(self):\n",
    "        if self.game.form == 'W':\n",
    "            self.game._Game__playdata = self.game._Game__playdata.T\n",
    "            \n",
    "        df = pd.DataFrame({'Combinations':[]})\n",
    "        for i in range(0,self.game._Game__playdata.shape[0]):\n",
    "            df.loc[i+1,'Combinations'] = self.game._Game__playdata.iloc[i,:].map(str).str.cat(sep = ' ')      \n",
    "            df2 = df['Combinations'].value_counts(ascending = True)\n",
    "            self.combodata = df2.to_frame()\n",
    "        return self.combodata\n",
    "    def face_count(self):\n",
    "        if self.game.form == 'W':\n",
    "            self.game._Game__playdata = self.game._Game__playdata.T\n",
    "            self.facecountdata = self.game._Game__playdata.apply(pd.value_counts).T\n",
    "  \n",
    "        else:\n",
    "            self.facecountdata = game._Game__playdata.apply(pd.value_counts,axis = 1)\n",
    "    "
   ]
  }
 ],
 "metadata": {
  "kernelspec": {
   "display_name": "Python 3",
   "language": "python",
   "name": "python3"
  },
  "language_info": {
   "codemirror_mode": {
    "name": "ipython",
    "version": 3
   },
   "file_extension": ".py",
   "mimetype": "text/x-python",
   "name": "python",
   "nbconvert_exporter": "python",
   "pygments_lexer": "ipython3",
   "version": "3.8.8"
  }
 },
 "nbformat": 4,
 "nbformat_minor": 4
}
