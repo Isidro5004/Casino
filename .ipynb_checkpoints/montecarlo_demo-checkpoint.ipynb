{
 "cells": [
  {
   "cell_type": "code",
   "execution_count": 4,
   "metadata": {},
   "outputs": [],
   "source": [
    "#import sys\n",
    "#!{sys.executable} -m pip install git+https://github.com/Isidro5004/Casino.git\n",
    "from casino.montecarlo import Die,Game,Analyzer"
   ]
  },
  {
   "cell_type": "markdown",
   "metadata": {},
   "source": [
    "# Scenario 1: A 2-headed coin\n",
    "1. Create a fair coin (with faces H and T) and one unfair coin, in\n",
    "which one of the faces has a weight of 5 and the others 1.\n",
    "2. Play a game of 1000 flips with all fair dice.\n",
    "3. Play a game of 1000 flips with two unfair dice and one fair die.\n",
    "4. For each game, use an Analyzer object to determine the\n",
    "relative frequency of jackpots – getting either all Hs or all Ts.\n",
    "5. Compute relative frequency as the number of jackpots over the\n",
    "total number of rolls.\n",
    "6. Show your results, comparing the two relative frequencies, in a\n",
    "simple bar chart."
   ]
  },
  {
   "cell_type": "code",
   "execution_count": 5,
   "metadata": {},
   "outputs": [
    {
     "data": {
      "text/plain": [
       "<BarContainer object of 2 artists>"
      ]
     },
     "execution_count": 5,
     "metadata": {},
     "output_type": "execute_result"
    },
    {
     "data": {
      "image/png": "[encoded data removed]",
      "text/plain": [
       "<Figure size 432x288 with 1 Axes>"
      ]
     },
     "metadata": {
      "needs_background": "light"
     },
     "output_type": "display_data"
    }
   ],
   "source": [
    "import matplotlib.pyplot as plt\n",
    "#Create fair and unfair dice with weights\n",
    "fair = Die(['H','T'])\n",
    "unfair = Die(['H','T'])\n",
    "unfair.change_weight('H',5)\n",
    "\n",
    "#Play 1000 Games\n",
    "fair_game = Game([fair,fair,fair])\n",
    "fair_game.play(1000)\n",
    "fair_game.show()\n",
    "\n",
    "unfair_game = Game([unfair,unfair,fair])\n",
    "unfair_game.play(1000)\n",
    "unfair_game.show()\n",
    "\n",
    "#Analysis\n",
    "fair_analysis = Analyzer(fair_game)\n",
    "fair_jackpot = fair_analysis.jackpot()\n",
    "fair_freq = fair_jackpot/1000\n",
    "\n",
    "unfair_analysis = Analyzer(unfair_game)\n",
    "unfair_jackpot = unfair_analysis.jackpot()\n",
    "unfair_freq = unfair_jackpot/1000\n",
    "\n",
    "#Bar Chart\n",
    "plt.bar(['Jackpot(Fair)', 'Jackpot(unfair)'],[fair_freq, unfair_freq])"
   ]
  },
  {
   "cell_type": "markdown",
   "metadata": {},
   "source": [
    "# Scenario 2: A 6-sided die\n",
    "1. Create a fair die and two unfair dice, all of six sides with the\n",
    "faces 1 through 6. One unfair die (Type 1) will weight 6 five\n",
    "times more than the others (i.e. it has weight of 5 and the\n",
    "others a weight of 1 each). The other unfair die (Type 2)\n",
    "will weight 1 five times more than the others.\n",
    "2. Play a game of 10000 rolls with 5 fair dice.\n",
    "3. Play a game of 10000 rolls with 2 unfair dice of type 1, 1 unfair\n",
    "die of type 2, and the rest fair dice.\n",
    "4. For each game, use an Analyzer object to determine the\n",
    "relative frequency of jackpots and show your results,\n",
    "comparing the two relative frequencies, in a simple bar chart.\n",
    "5. Also compute 10 most frequent combinations of faces for each\n",
    "game. Plot each of these as bar charts."
   ]
  },
  {
   "cell_type": "code",
   "execution_count": 25,
   "metadata": {},
   "outputs": [
    {
     "data": {
      "text/plain": [
       "([0, 1, 2, 3, 4, 5, 6, 7, 8, 9],\n",
       " [Text(0, 0, ''),\n",
       "  Text(0, 0, ''),\n",
       "  Text(0, 0, ''),\n",
       "  Text(0, 0, ''),\n",
       "  Text(0, 0, ''),\n",
       "  Text(0, 0, ''),\n",
       "  Text(0, 0, ''),\n",
       "  Text(0, 0, ''),\n",
       "  Text(0, 0, ''),\n",
       "  Text(0, 0, '')])"
      ]
     },
     "execution_count": 25,
     "metadata": {},
     "output_type": "execute_result"
    },
    {
     "data": {
      "image/png": "[encoded data removed]",
      "text/plain": [
       "<Figure size 432x288 with 1 Axes>"
      ]
     },
     "metadata": {
      "needs_background": "light"
     },
     "output_type": "display_data"
    },
    {
     "data": {
      "image/png": "[encoded data removed]",
      "text/plain": [
       "<Figure size 432x288 with 1 Axes>"
      ]
     },
     "metadata": {
      "needs_background": "light"
     },
     "output_type": "display_data"
    },
    {
     "data": {
      "image/png": "[encoded data removed]",
      "text/plain": [
       "<Figure size 432x288 with 1 Axes>"
      ]
     },
     "metadata": {
      "needs_background": "light"
     },
     "output_type": "display_data"
    }
   ],
   "source": [
    "del fair\n",
    "#Dice creation and mutation\n",
    "fair = Die([1,2,3,4,5,6])\n",
    "unfair1 = Die([1,2,3,4,5,6])\n",
    "unfair2 = Die([1,2,3,4,5,6])\n",
    "unfair1.change_weight(6,5)\n",
    "unfair2.change_weight(1,5)\n",
    "\n",
    "#Play games\n",
    "fair_game2 = Game([fair,fair,fair,fair,fair])\n",
    "fair_game2.play(10000)\n",
    "fair_game2.show()\n",
    "\n",
    "unfair_game2 = Game([unfair1,unfair1,unfair2,fair,fair])\n",
    "unfair_game2.play(10000)\n",
    "unfair_game2.show()\n",
    "\n",
    "#Analysis\n",
    "fair_analysis2 = Analyzer(fair_game2)\n",
    "fair_jackpot2 = fair_analysis2.jackpot()\n",
    "fair_freq2 = fair_jackpot2/10000\n",
    "fair_combo = fair_analysis2.combo().nlargest(10,'Combinations')\n",
    "\n",
    "unfair_analysis2 = Analyzer(unfair_game2)\n",
    "unfair_jackpot2 = unfair_analysis2.jackpot()\n",
    "unfair_freq2 = unfair_jackpot2/10000\n",
    "unfair_combo = unfair_analysis2.combo().nlargest(10,'Combinations')\n",
    "\n",
    "#Plot\n",
    "plt.figure(1)\n",
    "plt.bar(['Jackpot(fair)','Jackpot(unfair)'],[fair_freq2,unfair_freq2])\n",
    "\n",
    "plt.figure(2)\n",
    "plt.bar(fair_combo.index.tolist(),np.concatenate(fair_combo.values.tolist()))\n",
    "plt.xticks(rotation = 45)\n",
    "\n",
    "plt.figure(3)\n",
    "plt.bar(unfair_combo.index.tolist(),np.concatenate(unfair_combo.values.tolist()))\n",
    "plt.xticks(rotation = 45)"
   ]
  },
  {
   "cell_type": "markdown",
   "metadata": {},
   "source": [
    "# Scendario 3: Letters of the Roman Alpha\n",
    "1. Create a \"die\" of letters from a to z with weights based on their frequency of usage.\n",
    "2. Play a game involving 5 of these dice with 1000 rolls. How many combos can you that look like actual English words? \n",
    "4. NOTE: \"combo\" here just means resulting sequence, not literally combination as opposed to permutation.\n",
    "3. Based on your eye count, what is the relative frequency of these words versus the rest? \n",
    "5. Note: the Notebook will supply the weights for the letters.\n"
   ]
  },
  {
   "cell_type": "code",
   "execution_count": 27,
   "metadata": {},
   "outputs": [
    {
     "name": "stdout",
     "output_type": "stream",
     "text": [
      "There were about 5 real words that I saw.\n",
      "The frequency of real words generated is 0.005005005005005005\n"
     ]
    }
   ],
   "source": [
    "atoz = [chr(c) for c in range(ord('A'),ord('Z')+1)]\n",
    "abc = Die(atoz)\n",
    "abc_weight = [8.4966,2.0720,4.5388,3.3844,11.1607,1.8121,2.4705,3.0034,7.5448,0.1965,1.1016,5.4893,3.0129,6.6544,7.1635,3.1671,0.1962,7.5809,5.7351,6.9509,3.6308,1.0074,1.2899,0.2902,1.7779,0.2722]\n",
    "for i in range(0,26):\n",
    "    abc.change_weight(atoz[i],abc_weight[i])\n",
    "\n",
    "abc_game = Game([abc,abc,abc,abc,abc])\n",
    "abc_game.play(1000)\n",
    "abc_game.show()\n",
    "abc_analysis = Analyzer(abc_game)\n",
    "abc_words = abc_analysis.combo()\n",
    "print('There were about 5 real words that I saw.')\n",
    "abc_freq = 5/len(abc_words)\n",
    "print(f'The frequency of real words generated is {abc_freq}')"
   ]
  }
 ],
 "metadata": {
  "kernelspec": {
   "display_name": "Python 3",
   "language": "python",
   "name": "python3"
  },
  "language_info": {
   "codemirror_mode": {
    "name": "ipython",
    "version": 3
   },
   "file_extension": ".py",
   "mimetype": "text/x-python",
   "name": "python",
   "nbconvert_exporter": "python",
   "pygments_lexer": "ipython3",
   "version": "3.8.8"
  }
 },
 "nbformat": 4,
 "nbformat_minor": 4
}
